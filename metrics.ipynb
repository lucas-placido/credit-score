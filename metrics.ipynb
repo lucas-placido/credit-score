{
 "cells": [
  {
   "cell_type": "markdown",
   "metadata": {},
   "source": [
    "## PSI (Population Stability Index)"
   ]
  },
  {
   "cell_type": "markdown",
   "metadata": {},
   "source": [
    "Population Stability Index (PSI) compares the distribution of predicted probability in scoring data with predicted probability in training data.  \n",
    "The idea is to check “How different the current scored data is, compared to the training data”."
   ]
  },
  {
   "cell_type": "markdown",
   "metadata": {
    "vscode": {
     "languageId": "latex"
    }
   },
   "source": [
    "$$\n",
    "PSI = \\sum_{i=1}^{k} \\left( (O_i - E_i) \\times \\ln\\left(\\frac{O_i}{E_i}\\right) \\right)\n",
    "$$"
   ]
  },
  {
   "cell_type": "code",
   "execution_count": 6,
   "metadata": {},
   "outputs": [],
   "source": [
    "import pandas as pd \n",
    "import numpy as np\n",
    "import matplotlib.pyplot as plt"
   ]
  },
  {
   "cell_type": "code",
   "execution_count": 7,
   "metadata": {},
   "outputs": [],
   "source": [
    "# Development dataset\n",
    "dev_data = pd.DataFrame({'score': np.random.randint(150, 1000 ,1000)}).sort_values(by='score', ascending=True)\n",
    "# Validation dataset\n",
    "val_data = pd.DataFrame({'score': np.random.randint(150, 1000 ,1000)}).sort_values(by='score', ascending=True)\n",
    "# Create ExcelWriter object\n",
    "with pd.ExcelWriter(\"data.xlsx\", engine='openpyxl', mode='a', if_sheet_exists='replace') as writer:\n",
    "    # Save dev_data to \"dev\" sheet\n",
    "    dev_data.to_excel(writer, sheet_name=\"dev\", index=False)\n",
    "    \n",
    "    # Save val_data to \"val\" sheet\n",
    "    val_data.to_excel(writer, sheet_name=\"val\", index=False)\n",
    "\n",
    "def population_stability_index(dev_data, val_data, col_name, num_bins = 10):\n",
    "    # bins = np.linspace(dev_data[col_name].min(), dev_data[col_name].max(), num=num_bins+1)\n",
    "    bins = np.array([0, 100, 200, 300, 400, 500, 600, 700, 800, 900, 1000]) # For simplicity\n",
    "\n",
    "    dev_data['bin'] = pd.cut(dev_data[col_name], bins=bins, include_lowest=True, ordered=True)\n",
    "    val_data['bin'] = pd.cut(val_data[col_name], bins=bins, include_lowest=True, ordered=True)\n",
    "\n",
    "    dev_group = dev_data.groupby('bin', observed=False)[col_name].count().reset_index(name='dev_count')\n",
    "    val_group = val_data.groupby('bin', observed=False)[col_name].count().reset_index(name='val_count')\n",
    "\n",
    "    merged_counts = dev_group.merge(val_group, on='bin', how='left')\n",
    "\n",
    "    small_constant = 1e-10 # avoid division by zero\n",
    "    merged_counts['dev_pct'] = (merged_counts['dev_count'] / len(dev_data) + small_constant)\n",
    "    merged_counts['val_pct'] = (merged_counts['val_count'] / len(val_data) + small_constant)\n",
    "    merged_counts['psi'] = (merged_counts['val_pct'] - merged_counts['dev_pct']) * np.log(merged_counts['val_pct'] / merged_counts['dev_pct'])\n",
    "\n",
    "    return merged_counts['psi'].sum(), merged_counts\n",
    "\n",
    "def plot_psi(plot_data, psi_value):    \n",
    "    fig, ax = plt.subplots(figsize=(10, 6))  # Adjust the chart size here\n",
    "    index = np.arange(len(plot_data))\n",
    "    bar_width = 0.35\n",
    "    dev_bars = ax.bar(index, plot_data['dev_pct'], bar_width, label='Development')\n",
    "    val_bars = ax.bar(index + bar_width, plot_data['val_pct'], bar_width, label='Validation')\n",
    "    \n",
    "    # Annotating each bar with its count\n",
    "    for bar, dev_count, val_count in zip(index, plot_data['dev_count'], plot_data['val_count']):\n",
    "        ax.text(bar, plot_data['dev_pct'][bar] + 0.01, str(dev_count), ha='center', va='bottom')\n",
    "        ax.text(bar + bar_width, plot_data['val_pct'][bar] + 0.01, str(val_count), ha='center', va='bottom')\n",
    "\n",
    "    ax.set_xlabel('Bins')\n",
    "    ax.set_ylabel('Percentage')\n",
    "    ax.set_title(f'Population Stability Index (PSI): {psi_value:.4f}')\n",
    "    ax.set_xticks(index + bar_width / 2)\n",
    "    ax.set_xticklabels(plot_data['bin'].apply(lambda x: f\"{x.left:.2f}-{x.right:.2f}\"))\n",
    "    ax.legend()\n",
    "    fig.tight_layout()\n",
    "    plt.show()"
   ]
  },
  {
   "cell_type": "code",
   "execution_count": 8,
   "metadata": {},
   "outputs": [
    {
     "name": "stdout",
     "output_type": "stream",
     "text": [
      "PSI value: 0.021806293470835653\n"
     ]
    }
   ],
   "source": [
    "psi_value, merged_counts = population_stability_index(dev_data, val_data, 'score', 10)\n",
    "print(f'PSI value: {psi_value}')"
   ]
  },
  {
   "cell_type": "code",
   "execution_count": 9,
   "metadata": {},
   "outputs": [
    {
     "data": {
      "text/html": [
       "<div>\n",
       "<style scoped>\n",
       "    .dataframe tbody tr th:only-of-type {\n",
       "        vertical-align: middle;\n",
       "    }\n",
       "\n",
       "    .dataframe tbody tr th {\n",
       "        vertical-align: top;\n",
       "    }\n",
       "\n",
       "    .dataframe thead th {\n",
       "        text-align: right;\n",
       "    }\n",
       "</style>\n",
       "<table border=\"1\" class=\"dataframe\">\n",
       "  <thead>\n",
       "    <tr style=\"text-align: right;\">\n",
       "      <th></th>\n",
       "      <th>bin</th>\n",
       "      <th>dev_count</th>\n",
       "      <th>val_count</th>\n",
       "      <th>dev_pct</th>\n",
       "      <th>val_pct</th>\n",
       "      <th>psi</th>\n",
       "    </tr>\n",
       "  </thead>\n",
       "  <tbody>\n",
       "    <tr>\n",
       "      <th>0</th>\n",
       "      <td>(-0.001, 100.0]</td>\n",
       "      <td>0</td>\n",
       "      <td>0</td>\n",
       "      <td>1.000000e-10</td>\n",
       "      <td>1.000000e-10</td>\n",
       "      <td>0.000000</td>\n",
       "    </tr>\n",
       "    <tr>\n",
       "      <th>1</th>\n",
       "      <td>(100.0, 200.0]</td>\n",
       "      <td>68</td>\n",
       "      <td>56</td>\n",
       "      <td>6.800000e-02</td>\n",
       "      <td>5.600000e-02</td>\n",
       "      <td>0.002330</td>\n",
       "    </tr>\n",
       "    <tr>\n",
       "      <th>2</th>\n",
       "      <td>(200.0, 300.0]</td>\n",
       "      <td>136</td>\n",
       "      <td>122</td>\n",
       "      <td>1.360000e-01</td>\n",
       "      <td>1.220000e-01</td>\n",
       "      <td>0.001521</td>\n",
       "    </tr>\n",
       "    <tr>\n",
       "      <th>3</th>\n",
       "      <td>(300.0, 400.0]</td>\n",
       "      <td>120</td>\n",
       "      <td>112</td>\n",
       "      <td>1.200000e-01</td>\n",
       "      <td>1.120000e-01</td>\n",
       "      <td>0.000552</td>\n",
       "    </tr>\n",
       "    <tr>\n",
       "      <th>4</th>\n",
       "      <td>(400.0, 500.0]</td>\n",
       "      <td>132</td>\n",
       "      <td>115</td>\n",
       "      <td>1.320000e-01</td>\n",
       "      <td>1.150000e-01</td>\n",
       "      <td>0.002344</td>\n",
       "    </tr>\n",
       "    <tr>\n",
       "      <th>5</th>\n",
       "      <td>(500.0, 600.0]</td>\n",
       "      <td>101</td>\n",
       "      <td>116</td>\n",
       "      <td>1.010000e-01</td>\n",
       "      <td>1.160000e-01</td>\n",
       "      <td>0.002077</td>\n",
       "    </tr>\n",
       "    <tr>\n",
       "      <th>6</th>\n",
       "      <td>(600.0, 700.0]</td>\n",
       "      <td>111</td>\n",
       "      <td>121</td>\n",
       "      <td>1.110000e-01</td>\n",
       "      <td>1.210000e-01</td>\n",
       "      <td>0.000863</td>\n",
       "    </tr>\n",
       "    <tr>\n",
       "      <th>7</th>\n",
       "      <td>(700.0, 800.0]</td>\n",
       "      <td>108</td>\n",
       "      <td>116</td>\n",
       "      <td>1.080000e-01</td>\n",
       "      <td>1.160000e-01</td>\n",
       "      <td>0.000572</td>\n",
       "    </tr>\n",
       "    <tr>\n",
       "      <th>8</th>\n",
       "      <td>(800.0, 900.0]</td>\n",
       "      <td>97</td>\n",
       "      <td>130</td>\n",
       "      <td>9.700000e-02</td>\n",
       "      <td>1.300000e-01</td>\n",
       "      <td>0.009663</td>\n",
       "    </tr>\n",
       "    <tr>\n",
       "      <th>9</th>\n",
       "      <td>(900.0, 1000.0]</td>\n",
       "      <td>127</td>\n",
       "      <td>112</td>\n",
       "      <td>1.270000e-01</td>\n",
       "      <td>1.120000e-01</td>\n",
       "      <td>0.001885</td>\n",
       "    </tr>\n",
       "  </tbody>\n",
       "</table>\n",
       "</div>"
      ],
      "text/plain": [
       "               bin  dev_count  val_count       dev_pct       val_pct       psi\n",
       "0  (-0.001, 100.0]          0          0  1.000000e-10  1.000000e-10  0.000000\n",
       "1   (100.0, 200.0]         68         56  6.800000e-02  5.600000e-02  0.002330\n",
       "2   (200.0, 300.0]        136        122  1.360000e-01  1.220000e-01  0.001521\n",
       "3   (300.0, 400.0]        120        112  1.200000e-01  1.120000e-01  0.000552\n",
       "4   (400.0, 500.0]        132        115  1.320000e-01  1.150000e-01  0.002344\n",
       "5   (500.0, 600.0]        101        116  1.010000e-01  1.160000e-01  0.002077\n",
       "6   (600.0, 700.0]        111        121  1.110000e-01  1.210000e-01  0.000863\n",
       "7   (700.0, 800.0]        108        116  1.080000e-01  1.160000e-01  0.000572\n",
       "8   (800.0, 900.0]         97        130  9.700000e-02  1.300000e-01  0.009663\n",
       "9  (900.0, 1000.0]        127        112  1.270000e-01  1.120000e-01  0.001885"
      ]
     },
     "execution_count": 9,
     "metadata": {},
     "output_type": "execute_result"
    }
   ],
   "source": [
    "merged_counts"
   ]
  },
  {
   "cell_type": "code",
   "execution_count": 10,
   "metadata": {},
   "outputs": [
    {
     "data": {
      "image/png": "[encoded data removed]",
      "text/plain": [
       "<Figure size 1000x600 with 1 Axes>"
      ]
     },
     "metadata": {},
     "output_type": "display_data"
    }
   ],
   "source": [
    "plot_psi(merged_counts, psi_value)"
   ]
  },
  {
   "cell_type": "code",
   "execution_count": null,
   "metadata": {},
   "outputs": [],
   "source": []
  },
  {
   "cell_type": "markdown",
   "metadata": {},
   "source": [
    "# KS"
   ]
  },
  {
   "cell_type": "code",
   "execution_count": null,
   "metadata": {},
   "outputs": [],
   "source": []
  }
 ],
 "metadata": {
  "kernelspec": {
   "display_name": "venv",
   "language": "python",
   "name": "python3"
  },
  "language_info": {
   "codemirror_mode": {
    "name": "ipython",
    "version": 3
   },
   "file_extension": ".py",
   "mimetype": "text/x-python",
   "name": "python",
   "nbconvert_exporter": "python",
   "pygments_lexer": "ipython3",
   "version": "3.9.13"
  }
 },
 "nbformat": 4,
 "nbformat_minor": 2
}
